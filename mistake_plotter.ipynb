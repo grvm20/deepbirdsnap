{
 "cells": [
  {
   "cell_type": "code",
   "execution_count": 1,
   "metadata": {
    "collapsed": false
   },
   "outputs": [
    {
     "name": "stderr",
     "output_type": "stream",
     "text": [
      "Using TensorFlow backend.\n"
     ]
    }
   ],
   "source": [
    "import matplotlib.pyplot as plt\n",
    "import matplotlib.patches as patches\n",
    "from PIL import Image\n",
    "import numpy as np\n",
    "from keras.preprocessing.image import load_img, img_to_array,ImageDataGenerator\n",
    "from evaluate import evaluate\n",
    "from utils import img_parts_generator, top3acc, top5acc, labels_contiguous\n",
    "from inceptionv4 import create_model, two_towers_top\n",
    "from scipy.misc import imsave\n",
    "import time\n",
    "import os\n",
    "from keras import backend as K\n",
    "import pickle"
   ]
  },
  {
   "cell_type": "code",
   "execution_count": 2,
   "metadata": {
    "collapsed": true
   },
   "outputs": [],
   "source": [
    "def plot_data(img, orig_x1, orig_y1, orig_x2, orig_y2, pred_x1, pred_y1, pred_x2, pred_y2):\n",
    "    # Create figure and axes\n",
    "    fig,ax = plt.subplots(1)\n",
    "\n",
    "    # Display the image\n",
    "    ax.imshow(img)\n",
    "    orig_width = orig_x2 - orig_x1\n",
    "    orig_height = orig_y2 - orig_y1\n",
    "    # Create a Rectangle patch\n",
    "    rect = patches.Rectangle((orig_x1, orig_y1),orig_width, orig_height,linewidth=2,edgecolor='g',facecolor='none')\n",
    "\n",
    "    # Add the patch to the Axes\n",
    "    ax.add_patch(rect)\n",
    "\n",
    "    pred_width = pred_x2 - pred_x1\n",
    "    pred_height = pred_y2 - pred_y1\n",
    "    rect = patches.Rectangle((pred_x1, pred_y1),pred_width,pred_height,linewidth=2,edgecolor='r',facecolor='none')\n",
    "    ax.add_patch(rect)\n",
    "    plt.show()\n",
    "    \n",
    "def plot_img(img, x=None, y=None, save=None):\n",
    "    implot = plt.imshow(img)\n",
    "    if x is not None and y is not None:\n",
    "        plt.plot(x,y,'o', marker=5)\n",
    "    if save:\n",
    "        imsave(img,path)\n",
    "    plt.show()"
   ]
  },
  {
   "cell_type": "code",
   "execution_count": null,
   "metadata": {
    "collapsed": true
   },
   "outputs": [],
   "source": []
  },
  {
   "cell_type": "code",
   "execution_count": 3,
   "metadata": {
    "collapsed": false
   },
   "outputs": [
    {
     "name": "stdout",
     "output_type": "stream",
     "text": [
      "Inceptionv4 Base loaded\n"
     ]
    },
    {
     "name": "stderr",
     "output_type": "stream",
     "text": [
      "/home/ubuntu/birdsnap_dataset/deepbirdsnap/inceptionv4.py:400: UserWarning: Update your `Model` call to the Keras 2 API: `Model(inputs=Tensor(\"in..., outputs=Tensor(\"de...)`\n",
      "  top_model = Model(input=inputs, output=x)\n",
      "/home/ubuntu/birdsnap_dataset/deepbirdsnap/inceptionv4.py:465: UserWarning: Update your `Model` call to the Keras 2 API: `Model(inputs=Tensor(\"in..., outputs=Tensor(\"mo...)`\n",
      "  fused = Model(input=base_inputs, output=top(base(base_inputs)))\n"
     ]
    },
    {
     "name": "stdout",
     "output_type": "stream",
     "text": [
      "Weights loaded\n",
      "_________________________________________________________________\n",
      "Layer (type)                 Output Shape              Param #   \n",
      "=================================================================\n",
      "input_1 (InputLayer)         (None, 299, 299, 3)       0         \n",
      "_________________________________________________________________\n",
      "inception_v4 (Model)         (None, 8, 8, 1536)        41174400  \n",
      "_________________________________________________________________\n",
      "model_1 (Model)              (None, 500)               768500    \n",
      "=================================================================\n",
      "Total params: 41,942,900.0\n",
      "Trainable params: 41,879,732.0\n",
      "Non-trainable params: 63,168.0\n",
      "_________________________________________________________________\n",
      "None\n"
     ]
    }
   ],
   "source": [
    "# load model\n",
    "weights = 'best_weights/complete_defrost_62.hdf5'\n",
    "model = create_model(num_classes=500,\n",
    "                     include_top=True, \n",
    "                     weights=weights)\n",
    "print(model.summary())"
   ]
  },
  {
   "cell_type": "code",
   "execution_count": 4,
   "metadata": {
    "collapsed": false
   },
   "outputs": [
    {
     "name": "stdout",
     "output_type": "stream",
     "text": [
      "Found 3000 images belonging to 500 classes.\n",
      "Found 4500 images belonging to 500 classes.\n"
     ]
    }
   ],
   "source": [
    "# load data\n",
    "gen_factory = ImageDataGenerator(rescale=1./255)\n",
    "\n",
    "validation_generator = gen_factory.flow_from_directory(\n",
    "    '../validation',\n",
    "    target_size=(299, 299),\n",
    "    batch_size=100,\n",
    "    shuffle=False)\n",
    "\n",
    "test_generator = gen_factory.flow_from_directory(\n",
    "    '../test',\n",
    "    target_size=(299, 299),\n",
    "    batch_size=100,\n",
    "    shuffle=False)\n",
    "\n"
   ]
  },
  {
   "cell_type": "code",
   "execution_count": 4,
   "metadata": {
    "collapsed": true
   },
   "outputs": [],
   "source": [
    "valid_labels = labels_contiguous(6,num_classes=500)\n",
    "test_labels = labels_contiguous(9,num_classes=500)"
   ]
  },
  {
   "cell_type": "code",
   "execution_count": 7,
   "metadata": {
    "collapsed": true
   },
   "outputs": [],
   "source": [
    "model.compile(optimizer='adam',\n",
    "              loss='categorical_crossentropy', \n",
    "              metrics=['accuracy', top3acc, top5acc])"
   ]
  },
  {
   "cell_type": "code",
   "execution_count": null,
   "metadata": {
    "collapsed": false
   },
   "outputs": [],
   "source": []
  },
  {
   "cell_type": "code",
   "execution_count": 6,
   "metadata": {
    "collapsed": false
   },
   "outputs": [
    {
     "name": "stdout",
     "output_type": "stream",
     "text": [
      "[1.7215816140174867, 0.61666663388411203, 0.79699997107187903, 0.84633332490921021]\n",
      "[1.8312264177534314, 0.60733331044514971, 0.78066664801703556, 0.83666665951410935]\n"
     ]
    }
   ],
   "source": [
    "# evaluate model on val and test sets\n",
    "res_val = model.evaluate_generator(validation_generator, 3000//100)\n",
    "print(res_val)\n",
    "res_test = model.evaluate_generator(test_generator, 4500//100)\n",
    "print(res_test)"
   ]
  },
  {
   "cell_type": "code",
   "execution_count": 7,
   "metadata": {
    "collapsed": false
   },
   "outputs": [
    {
     "name": "stdout",
     "output_type": "stream",
     "text": [
      "30/30 [==============================] - 264s   \n"
     ]
    }
   ],
   "source": [
    "preds = model.predict_generator(validation_generator, 3000//100, verbose=1)"
   ]
  },
  {
   "cell_type": "code",
   "execution_count": 20,
   "metadata": {
    "collapsed": false
   },
   "outputs": [
    {
     "data": {
      "text/plain": [
       "500"
      ]
     },
     "execution_count": 20,
     "metadata": {},
     "output_type": "execute_result"
    }
   ],
   "source": [
    "len(valid_labels[0])"
   ]
  },
  {
   "cell_type": "raw",
   "metadata": {},
   "source": [
    "print(\"Hello\")"
   ]
  },
  {
   "cell_type": "code",
   "execution_count": 41,
   "metadata": {
    "collapsed": true
   },
   "outputs": [],
   "source": [
    "def get_label_name(index):\n",
    "    f = open('train_labels.txt', 'r').readlines()\n",
    "    s = set()\n",
    "    for c in f:\n",
    "        s.add(c)\n",
    "    mapping = list(s)\n",
    "    mapping.sort()\n",
    "    return mapping[index]"
   ]
  },
  {
   "cell_type": "code",
   "execution_count": 34,
   "metadata": {
    "collapsed": false
   },
   "outputs": [],
   "source": [
    "#load data from custom generator\n",
    "gen = img_parts_generator('parts_info.txt', \n",
    "                          data_dir='../validation/', \n",
    "                          batch_size=100, load_image=True, load_paths=False, load_parts=False, cache=False)"
   ]
  },
  {
   "cell_type": "code",
   "execution_count": 35,
   "metadata": {
    "collapsed": false,
    "scrolled": false
   },
   "outputs": [
    {
     "name": "stdout",
     "output_type": "stream",
     "text": [
      "100\n",
      "200\n",
      "300\n",
      "400\n",
      "500\n",
      "600\n",
      "700\n",
      "800\n",
      "900\n",
      "1000\n",
      "1100\n",
      "1200\n",
      "1300\n",
      "1400\n",
      "1500\n",
      "1600\n",
      "1700\n",
      "1800\n",
      "1900\n",
      "2000\n",
      "2100\n",
      "2200\n",
      "2300\n",
      "2400\n",
      "2500\n",
      "2600\n",
      "2700\n",
      "2800\n",
      "2900\n",
      "3000\n"
     ]
    }
   ],
   "source": [
    "preds_gen = None\n",
    "count = 0\n",
    "for imgs in gen:\n",
    "    #print(type(imgs[0]))\n",
    "    prediction = model.predict(imgs[0], 100)\n",
    "    #print(np.argmax(prediction).shape)\n",
    "    if preds_gen is None:\n",
    "        preds_gen = prediction\n",
    "    else:\n",
    "        preds_gen = np.vstack((preds_gen, prediction))\n",
    "    #print(type(preds_gen))\n",
    "    count += 100\n",
    "    print(count)\n",
    "    \n"
   ]
  },
  {
   "cell_type": "code",
   "execution_count": 36,
   "metadata": {
    "collapsed": false
   },
   "outputs": [
    {
     "name": "stdout",
     "output_type": "stream",
     "text": [
      "1150\n",
      "1150\n"
     ]
    }
   ],
   "source": [
    "mistakes = 0\n",
    "index = []\n",
    "for i, (pred,tgt) in enumerate(zip(preds_gen, valid_labels)):\n",
    "    #print(i)\n",
    "    if np.argmax(pred) != np.argmax(tgt):\n",
    "        mistakes += 1\n",
    "        index.append(i)\n",
    "print(mistakes)\n",
    "print(len(index))\n"
   ]
  },
  {
   "cell_type": "code",
   "execution_count": 48,
   "metadata": {
    "collapsed": false
   },
   "outputs": [
    {
     "name": "stdout",
     "output_type": "stream",
     "text": [
      "Northern_Bobwhite\n",
      "\n"
     ]
    }
   ],
   "source": [
    "print(get_label_name(np.argmax(valid_labels[1780])))"
   ]
  },
  {
   "cell_type": "code",
   "execution_count": 49,
   "metadata": {
    "collapsed": false
   },
   "outputs": [
    {
     "name": "stdout",
     "output_type": "stream",
     "text": [
      "Sooty_Grouse\n",
      "\n"
     ]
    }
   ],
   "source": [
    "print(get_label_name(np.argmax(preds_gen[1780])))"
   ]
  },
  {
   "cell_type": "code",
   "execution_count": 45,
   "metadata": {
    "collapsed": false
   },
   "outputs": [],
   "source": [
    "#load data from custom generator\n",
    "index_set = set(index)\n",
    "gen = img_parts_generator('parts_info.txt', \n",
    "                          data_dir='../validation/', \n",
    "                          batch_size=1, load_image=True, load_paths=True, load_parts=False, cache=False)"
   ]
  },
  {
   "cell_type": "code",
   "execution_count": 46,
   "metadata": {
    "collapsed": true
   },
   "outputs": [],
   "source": [
    "import re"
   ]
  },
  {
   "cell_type": "code",
   "execution_count": 47,
   "metadata": {
    "collapsed": false
   },
   "outputs": [
    {
     "name": "stdout",
     "output_type": "stream",
     "text": [
      "50\n",
      "100\n",
      "150\n",
      "200\n",
      "250\n",
      "300\n",
      "350\n",
      "400\n",
      "450\n",
      "500\n",
      "550\n",
      "600\n",
      "650\n",
      "700\n",
      "750\n",
      "800\n",
      "850\n",
      "900\n",
      "950\n",
      "1000\n",
      "1050\n",
      "1100\n",
      "1150\n",
      "1200\n",
      "1250\n",
      "1300\n",
      "1350\n",
      "1400\n",
      "1450\n",
      "1500\n",
      "1550\n",
      "1600\n",
      "1650\n",
      "1700\n",
      "1750\n",
      "Found:  1780\n",
      "1800\n"
     ]
    },
    {
     "ename": "KeyboardInterrupt",
     "evalue": "",
     "output_type": "error",
     "traceback": [
      "\u001b[0;31m---------------------------------------------------------------------------\u001b[0m",
      "\u001b[0;31mKeyboardInterrupt\u001b[0m                         Traceback (most recent call last)",
      "\u001b[0;32m<ipython-input-47-1a618ef71c39>\u001b[0m in \u001b[0;36m<module>\u001b[0;34m()\u001b[0m\n\u001b[1;32m      1\u001b[0m \u001b[0mcount\u001b[0m \u001b[0;34m=\u001b[0m \u001b[0;36m0\u001b[0m\u001b[0;34m\u001b[0m\u001b[0m\n\u001b[1;32m      2\u001b[0m \u001b[0mwrong_classified_path\u001b[0m \u001b[0;34m=\u001b[0m \u001b[0;34m[\u001b[0m\u001b[0;34m]\u001b[0m\u001b[0;34m\u001b[0m\u001b[0m\n\u001b[0;32m----> 3\u001b[0;31m \u001b[0;32mfor\u001b[0m \u001b[0mimgs\u001b[0m\u001b[0;34m,\u001b[0m \u001b[0mpaths\u001b[0m \u001b[0;32min\u001b[0m \u001b[0mgen\u001b[0m\u001b[0;34m:\u001b[0m\u001b[0;34m\u001b[0m\u001b[0m\n\u001b[0m\u001b[1;32m      4\u001b[0m     \u001b[0mimg\u001b[0m \u001b[0;34m=\u001b[0m \u001b[0mimgs\u001b[0m\u001b[0;34m[\u001b[0m\u001b[0;36m0\u001b[0m\u001b[0;34m]\u001b[0m\u001b[0;34m\u001b[0m\u001b[0m\n\u001b[1;32m      5\u001b[0m     \u001b[0mpath\u001b[0m \u001b[0;34m=\u001b[0m \u001b[0mpaths\u001b[0m\u001b[0;34m[\u001b[0m\u001b[0;36m0\u001b[0m\u001b[0;34m]\u001b[0m\u001b[0;34m\u001b[0m\u001b[0m\n",
      "\u001b[0;32m/home/ubuntu/birdsnap_dataset/deepbirdsnap/utils.py\u001b[0m in \u001b[0;36mimg_parts_generator\u001b[0;34m(parts_filename, data_dir, cache, batch_size, steps, target_dim, bottlenecks, unpickled, load_image, load_paths, bb_only, load_orig_img, load_parts)\u001b[0m\n\u001b[1;32m    178\u001b[0m                 \u001b[0mdata_orig_img\u001b[0m\u001b[0;34m.\u001b[0m\u001b[0mappend\u001b[0m\u001b[0;34m(\u001b[0m\u001b[0mget_img_array\u001b[0m\u001b[0;34m(\u001b[0m\u001b[0mimg\u001b[0m\u001b[0;34m,\u001b[0m \u001b[0mtarget_dim\u001b[0m\u001b[0;34m=\u001b[0m\u001b[0;32mNone\u001b[0m\u001b[0;34m)\u001b[0m\u001b[0;34m)\u001b[0m\u001b[0;34m\u001b[0m\u001b[0m\n\u001b[1;32m    179\u001b[0m             \u001b[0;32mif\u001b[0m\u001b[0;34m(\u001b[0m\u001b[0mload_image\u001b[0m\u001b[0;34m)\u001b[0m\u001b[0;34m:\u001b[0m\u001b[0;34m\u001b[0m\u001b[0m\n\u001b[0;32m--> 180\u001b[0;31m                 \u001b[0mdata_img\u001b[0m\u001b[0;34m.\u001b[0m\u001b[0mappend\u001b[0m\u001b[0;34m(\u001b[0m\u001b[0mget_img_array\u001b[0m\u001b[0;34m(\u001b[0m\u001b[0mimg\u001b[0m\u001b[0;34m,\u001b[0m \u001b[0mtarget_dim\u001b[0m\u001b[0;34m=\u001b[0m\u001b[0mtarget_dim\u001b[0m\u001b[0;34m)\u001b[0m\u001b[0;34m)\u001b[0m\u001b[0;34m\u001b[0m\u001b[0m\n\u001b[0m\u001b[1;32m    181\u001b[0m             \u001b[0;32mif\u001b[0m \u001b[0mload_paths\u001b[0m\u001b[0;34m:\u001b[0m\u001b[0;34m\u001b[0m\u001b[0m\n\u001b[1;32m    182\u001b[0m                 \u001b[0mdata_paths\u001b[0m\u001b[0;34m.\u001b[0m\u001b[0mappend\u001b[0m\u001b[0;34m(\u001b[0m\u001b[0mimg\u001b[0m\u001b[0;34m)\u001b[0m\u001b[0;34m\u001b[0m\u001b[0m\n",
      "\u001b[0;32m/home/ubuntu/birdsnap_dataset/deepbirdsnap/utils.py\u001b[0m in \u001b[0;36mget_img_array\u001b[0;34m(path, target_dim)\u001b[0m\n\u001b[1;32m     36\u001b[0m     \u001b[0mGiven\u001b[0m \u001b[0mpath\u001b[0m \u001b[0mof\u001b[0m \u001b[0mimage\u001b[0m\u001b[0;34m,\u001b[0m \u001b[0mreturns\u001b[0m \u001b[0mit\u001b[0m\u001b[0;31m'\u001b[0m\u001b[0ms\u001b[0m \u001b[0mnumpy\u001b[0m \u001b[0marray\u001b[0m\u001b[0;34m\u001b[0m\u001b[0m\n\u001b[1;32m     37\u001b[0m     \"\"\"\n\u001b[0;32m---> 38\u001b[0;31m     \u001b[0;32mreturn\u001b[0m \u001b[0mimg_to_array\u001b[0m\u001b[0;34m(\u001b[0m\u001b[0mload_img\u001b[0m\u001b[0;34m(\u001b[0m\u001b[0mpath\u001b[0m\u001b[0;34m,\u001b[0m \u001b[0mtarget_size\u001b[0m\u001b[0;34m=\u001b[0m\u001b[0mtarget_dim\u001b[0m\u001b[0;34m)\u001b[0m\u001b[0;34m)\u001b[0m\u001b[0;34m/\u001b[0m\u001b[0;36m255.0\u001b[0m\u001b[0;34m\u001b[0m\u001b[0m\n\u001b[0m\u001b[1;32m     39\u001b[0m \u001b[0;34m\u001b[0m\u001b[0m\n\u001b[1;32m     40\u001b[0m \u001b[0;32mdef\u001b[0m \u001b[0mload_bottlenecks\u001b[0m\u001b[0;34m(\u001b[0m\u001b[0mfilename\u001b[0m\u001b[0;34m)\u001b[0m\u001b[0;34m:\u001b[0m\u001b[0;34m\u001b[0m\u001b[0m\n",
      "\u001b[0;32m/home/ubuntu/birdsnap_dataset/deepbirdsnap/newbirds/lib/python3.5/site-packages/keras/preprocessing/image.py\u001b[0m in \u001b[0;36mload_img\u001b[0;34m(path, grayscale, target_size)\u001b[0m\n\u001b[1;32m    328\u001b[0m         \u001b[0mwh_tuple\u001b[0m \u001b[0;34m=\u001b[0m \u001b[0;34m(\u001b[0m\u001b[0mtarget_size\u001b[0m\u001b[0;34m[\u001b[0m\u001b[0;36m1\u001b[0m\u001b[0;34m]\u001b[0m\u001b[0;34m,\u001b[0m \u001b[0mtarget_size\u001b[0m\u001b[0;34m[\u001b[0m\u001b[0;36m0\u001b[0m\u001b[0;34m]\u001b[0m\u001b[0;34m)\u001b[0m\u001b[0;34m\u001b[0m\u001b[0m\n\u001b[1;32m    329\u001b[0m         \u001b[0;32mif\u001b[0m \u001b[0mimg\u001b[0m\u001b[0;34m.\u001b[0m\u001b[0msize\u001b[0m \u001b[0;34m!=\u001b[0m \u001b[0mwh_tuple\u001b[0m\u001b[0;34m:\u001b[0m\u001b[0;34m\u001b[0m\u001b[0m\n\u001b[0;32m--> 330\u001b[0;31m             \u001b[0mimg\u001b[0m \u001b[0;34m=\u001b[0m \u001b[0mimg\u001b[0m\u001b[0;34m.\u001b[0m\u001b[0mresize\u001b[0m\u001b[0;34m(\u001b[0m\u001b[0mwh_tuple\u001b[0m\u001b[0;34m)\u001b[0m\u001b[0;34m\u001b[0m\u001b[0m\n\u001b[0m\u001b[1;32m    331\u001b[0m     \u001b[0;32mreturn\u001b[0m \u001b[0mimg\u001b[0m\u001b[0;34m\u001b[0m\u001b[0m\n\u001b[1;32m    332\u001b[0m \u001b[0;34m\u001b[0m\u001b[0m\n",
      "\u001b[0;32m/home/ubuntu/birdsnap_dataset/deepbirdsnap/newbirds/lib/python3.5/site-packages/PIL/Image.py\u001b[0m in \u001b[0;36mresize\u001b[0;34m(self, size, resample)\u001b[0m\n\u001b[1;32m   1524\u001b[0m             \u001b[0;32mraise\u001b[0m \u001b[0mValueError\u001b[0m\u001b[0;34m(\u001b[0m\u001b[0;34m\"unknown resampling filter\"\u001b[0m\u001b[0;34m)\u001b[0m\u001b[0;34m\u001b[0m\u001b[0m\n\u001b[1;32m   1525\u001b[0m \u001b[0;34m\u001b[0m\u001b[0m\n\u001b[0;32m-> 1526\u001b[0;31m         \u001b[0mself\u001b[0m\u001b[0;34m.\u001b[0m\u001b[0mload\u001b[0m\u001b[0;34m(\u001b[0m\u001b[0;34m)\u001b[0m\u001b[0;34m\u001b[0m\u001b[0m\n\u001b[0m\u001b[1;32m   1527\u001b[0m \u001b[0;34m\u001b[0m\u001b[0m\n\u001b[1;32m   1528\u001b[0m         \u001b[0msize\u001b[0m \u001b[0;34m=\u001b[0m \u001b[0mtuple\u001b[0m\u001b[0;34m(\u001b[0m\u001b[0msize\u001b[0m\u001b[0;34m)\u001b[0m\u001b[0;34m\u001b[0m\u001b[0m\n",
      "\u001b[0;32m/home/ubuntu/birdsnap_dataset/deepbirdsnap/newbirds/lib/python3.5/site-packages/PIL/ImageFile.py\u001b[0m in \u001b[0;36mload\u001b[0;34m(self)\u001b[0m\n\u001b[1;32m    219\u001b[0m \u001b[0;34m\u001b[0m\u001b[0m\n\u001b[1;32m    220\u001b[0m                     \u001b[0mb\u001b[0m \u001b[0;34m=\u001b[0m \u001b[0mb\u001b[0m \u001b[0;34m+\u001b[0m \u001b[0ms\u001b[0m\u001b[0;34m\u001b[0m\u001b[0m\n\u001b[0;32m--> 221\u001b[0;31m                     \u001b[0mn\u001b[0m\u001b[0;34m,\u001b[0m \u001b[0me\u001b[0m \u001b[0;34m=\u001b[0m \u001b[0md\u001b[0m\u001b[0;34m.\u001b[0m\u001b[0mdecode\u001b[0m\u001b[0;34m(\u001b[0m\u001b[0mb\u001b[0m\u001b[0;34m)\u001b[0m\u001b[0;34m\u001b[0m\u001b[0m\n\u001b[0m\u001b[1;32m    222\u001b[0m                     \u001b[0;32mif\u001b[0m \u001b[0mn\u001b[0m \u001b[0;34m<\u001b[0m \u001b[0;36m0\u001b[0m\u001b[0;34m:\u001b[0m\u001b[0;34m\u001b[0m\u001b[0m\n\u001b[1;32m    223\u001b[0m                         \u001b[0;32mbreak\u001b[0m\u001b[0;34m\u001b[0m\u001b[0m\n",
      "\u001b[0;31mKeyboardInterrupt\u001b[0m: "
     ]
    }
   ],
   "source": [
    "count = 0\n",
    "wrong_classified_path = []\n",
    "for imgs, paths in gen:\n",
    "    img = imgs[0]\n",
    "    path = paths[0]\n",
    "    if count in index_set:\n",
    "        if '333760' in path:\n",
    "            print(\"Found: \", count)\n",
    "        wrong_classified_path.append(path)\n",
    "    count += 1\n",
    "    if count%50 == 0:\n",
    "        print(count)\n",
    "len(wrong_classified_path)"
   ]
  },
  {
   "cell_type": "code",
   "execution_count": 38,
   "metadata": {
    "collapsed": false
   },
   "outputs": [
    {
     "data": {
      "text/plain": [
       "'../validation/Acadian_Flycatcher/534084.jpg'"
      ]
     },
     "execution_count": 38,
     "metadata": {},
     "output_type": "execute_result"
    }
   ],
   "source": [
    "wrong_classified_path[0]"
   ]
  },
  {
   "cell_type": "code",
   "execution_count": 42,
   "metadata": {
    "collapsed": false
   },
   "outputs": [],
   "source": [
    "with open('wrong_classified_60','wb') as f:\n",
    "    pickle.dump(wrong_classified_path,f)"
   ]
  },
  {
   "cell_type": "code",
   "execution_count": 3,
   "metadata": {
    "collapsed": false
   },
   "outputs": [],
   "source": [
    "wrong_classified_path = pickle.load(open('wrong_classified_60', 'rb'))"
   ]
  },
  {
   "cell_type": "code",
   "execution_count": 4,
   "metadata": {
    "collapsed": false
   },
   "outputs": [],
   "source": [
    "from shutil import copyfile, copy2\n",
    "from image_cropper import get_save_path\n",
    "save_path = '../wrong_classified_60'"
   ]
  },
  {
   "cell_type": "code",
   "execution_count": 1,
   "metadata": {
    "collapsed": false,
    "scrolled": false
   },
   "outputs": [
    {
     "name": "stdout",
     "output_type": "stream",
     "text": [
      " \n"
     ]
    }
   ],
   "source": [
    "for path in wrong_classified_path:\n",
    "    new_path = get_save_path(path, save_path)\n",
    "    copyfile(path, new_path)\n",
    "\n",
    "    "
   ]
  },
  {
   "cell_type": "code",
   "execution_count": 50,
   "metadata": {
    "collapsed": false
   },
   "outputs": [],
   "source": [
    "validation_data = np.load(open('/data/bottlenecks_bak/cropped_pred_77_validation.npy', 'rb'))\n",
    "validation_data2 = np.load(open('/data/bottlenecks_bak/bottleneck_60_validation.npy', 'rb'))"
   ]
  },
  {
   "cell_type": "code",
   "execution_count": 51,
   "metadata": {
    "collapsed": true
   },
   "outputs": [],
   "source": [
    "validation_labels = labels_contiguous(6,num_classes=500)\n",
    "validation_labels2 = labels_contiguous(6,num_classes=500)"
   ]
  },
  {
   "cell_type": "code",
   "execution_count": 52,
   "metadata": {
    "collapsed": false
   },
   "outputs": [
    {
     "name": "stderr",
     "output_type": "stream",
     "text": [
      "/home/ubuntu/birdsnap_dataset/deepbirdsnap/inceptionv4.py:336: UserWarning: Update your `Model` call to the Keras 2 API: `Model(inputs=[<tf.Tenso..., outputs=Tensor(\"de...)`\n",
      "  top_model = Model(input=[input1,input2], output=x)\n"
     ]
    },
    {
     "name": "stdout",
     "output_type": "stream",
     "text": [
      "Loaded top model weights\n"
     ]
    }
   ],
   "source": [
    "top_model, x, top_model_inputs = two_towers_top(weights='best_weights/two_towers_top_predAndWhole82.hdf5')"
   ]
  },
  {
   "cell_type": "code",
   "execution_count": 12,
   "metadata": {
    "collapsed": false
   },
   "outputs": [
    {
     "data": {
      "text/plain": [
       "(3000, 8, 8, 1536)"
      ]
     },
     "execution_count": 12,
     "metadata": {},
     "output_type": "execute_result"
    }
   ],
   "source": [
    "validation_data.shape"
   ]
  },
  {
   "cell_type": "code",
   "execution_count": 53,
   "metadata": {
    "collapsed": false
   },
   "outputs": [],
   "source": [
    "top_model.compile(optimizer='adam',\n",
    "  loss='categorical_crossentropy')"
   ]
  },
  {
   "cell_type": "code",
   "execution_count": 54,
   "metadata": {
    "collapsed": true
   },
   "outputs": [],
   "source": [
    "gen = img_parts_generator('parts_info.txt', \n",
    "                          data_dir='../validation/', \n",
    "                          batch_size=10, load_image=True, load_paths=False, load_parts=False, cache=False)"
   ]
  },
  {
   "cell_type": "code",
   "execution_count": 55,
   "metadata": {
    "collapsed": false,
    "scrolled": true
   },
   "outputs": [
    {
     "name": "stdout",
     "output_type": "stream",
     "text": [
      "10\n",
      "20\n",
      "30\n",
      "40\n",
      "50\n",
      "60\n",
      "70\n",
      "80\n",
      "90\n",
      "100\n",
      "110\n",
      "120\n",
      "130\n",
      "140\n",
      "150\n",
      "160\n",
      "170\n",
      "180\n",
      "190\n",
      "200\n",
      "210\n",
      "220\n",
      "230\n",
      "240\n",
      "250\n",
      "260\n",
      "270\n",
      "280\n",
      "290\n",
      "300\n",
      "310\n",
      "320\n",
      "330\n",
      "340\n",
      "350\n",
      "360\n",
      "370\n",
      "380\n",
      "390\n",
      "400\n",
      "410\n",
      "420\n",
      "430\n",
      "440\n",
      "450\n",
      "460\n",
      "470\n",
      "480\n",
      "490\n",
      "500\n",
      "510\n",
      "520\n",
      "530\n",
      "540\n",
      "550\n",
      "560\n",
      "570\n",
      "580\n",
      "590\n",
      "600\n",
      "610\n",
      "620\n",
      "630\n",
      "640\n",
      "650\n",
      "660\n",
      "670\n",
      "680\n",
      "690\n",
      "700\n",
      "710\n",
      "720\n",
      "730\n",
      "740\n",
      "750\n",
      "760\n",
      "770\n",
      "780\n",
      "790\n",
      "800\n",
      "810\n",
      "820\n",
      "830\n",
      "840\n",
      "850\n",
      "860\n",
      "870\n",
      "880\n",
      "890\n",
      "900\n",
      "910\n",
      "920\n",
      "930\n",
      "940\n",
      "950\n",
      "960\n",
      "970\n",
      "980\n",
      "990\n",
      "1000\n",
      "1010\n",
      "1020\n",
      "1030\n",
      "1040\n",
      "1050\n",
      "1060\n",
      "1070\n",
      "1080\n",
      "1090\n",
      "1100\n",
      "1110\n",
      "1120\n",
      "1130\n",
      "1140\n",
      "1150\n",
      "1160\n",
      "1170\n",
      "1180\n",
      "1190\n",
      "1200\n",
      "1210\n",
      "1220\n",
      "1230\n",
      "1240\n",
      "1250\n",
      "1260\n",
      "1270\n",
      "1280\n",
      "1290\n",
      "1300\n",
      "1310\n",
      "1320\n",
      "1330\n",
      "1340\n",
      "1350\n",
      "1360\n",
      "1370\n",
      "1380\n",
      "1390\n",
      "1400\n",
      "1410\n",
      "1420\n",
      "1430\n",
      "1440\n",
      "1450\n",
      "1460\n",
      "1470\n",
      "1480\n",
      "1490\n",
      "1500\n",
      "1510\n",
      "1520\n",
      "1530\n",
      "1540\n",
      "1550\n",
      "1560\n",
      "1570\n",
      "1580\n",
      "1590\n",
      "1600\n",
      "1610\n",
      "1620\n",
      "1630\n",
      "1640\n",
      "1650\n",
      "1660\n",
      "1670\n",
      "1680\n",
      "1690\n",
      "1700\n",
      "1710\n",
      "1720\n",
      "1730\n",
      "1740\n",
      "1750\n",
      "1760\n",
      "1770\n",
      "1780\n",
      "1790\n",
      "1800\n",
      "1810\n",
      "1820\n",
      "1830\n",
      "1840\n",
      "1850\n",
      "1860\n",
      "1870\n",
      "1880\n",
      "1890\n",
      "1900\n",
      "1910\n",
      "1920\n",
      "1930\n",
      "1940\n",
      "1950\n",
      "1960\n",
      "1970\n",
      "1980\n",
      "1990\n",
      "2000\n",
      "2010\n",
      "2020\n",
      "2030\n",
      "2040\n",
      "2050\n",
      "2060\n",
      "2070\n",
      "2080\n",
      "2090\n",
      "2100\n",
      "2110\n",
      "2120\n",
      "2130\n",
      "2140\n",
      "2150\n",
      "2160\n",
      "2170\n",
      "2180\n",
      "2190\n",
      "2200\n",
      "2210\n",
      "2220\n",
      "2230\n",
      "2240\n",
      "2250\n",
      "2260\n",
      "2270\n",
      "2280\n",
      "2290\n",
      "2300\n",
      "2310\n",
      "2320\n",
      "2330\n",
      "2340\n",
      "2350\n",
      "2360\n",
      "2370\n",
      "2380\n",
      "2390\n",
      "2400\n",
      "2410\n",
      "2420\n",
      "2430\n",
      "2440\n",
      "2450\n",
      "2460\n",
      "2470\n",
      "2480\n",
      "2490\n",
      "2500\n",
      "2510\n",
      "2520\n",
      "2530\n",
      "2540\n",
      "2550\n",
      "2560\n",
      "2570\n",
      "2580\n",
      "2590\n",
      "2600\n",
      "2610\n",
      "2620\n",
      "2630\n",
      "2640\n",
      "2650\n",
      "2660\n",
      "2670\n",
      "2680\n",
      "2690\n",
      "2700\n",
      "2710\n",
      "2720\n",
      "2730\n",
      "2740\n",
      "2750\n",
      "2760\n",
      "2770\n",
      "2780\n",
      "2790\n",
      "2800\n",
      "2810\n",
      "2820\n",
      "2830\n",
      "2840\n",
      "2850\n",
      "2860\n",
      "2870\n",
      "2880\n",
      "2890\n",
      "2900\n",
      "2910\n",
      "2920\n",
      "2930\n",
      "2940\n",
      "2950\n",
      "2960\n",
      "2970\n",
      "2980\n",
      "2990\n",
      "3000\n"
     ]
    }
   ],
   "source": [
    "preds_gen = None\n",
    "count = 0\n",
    "for imgs in gen:\n",
    "    \n",
    "    v1 = validation_data[count:count+10, :, :, :]\n",
    "    v2 = validation_data2[count:count+10, :, :, :]\n",
    "    v = [v1, v2]\n",
    "    prediction = top_model.predict(v, 10)\n",
    "    \n",
    "    if preds_gen is None:\n",
    "        preds_gen = prediction\n",
    "    else:\n",
    "        preds_gen = np.vstack((preds_gen, prediction))\n",
    "    #print(type(preds_gen))\n",
    "    count += 10\n",
    "    print(count)\n",
    "    \n"
   ]
  },
  {
   "cell_type": "code",
   "execution_count": 56,
   "metadata": {
    "collapsed": false
   },
   "outputs": [
    {
     "name": "stdout",
     "output_type": "stream",
     "text": [
      "549\n",
      "549\n"
     ]
    }
   ],
   "source": [
    "mistakes = 0\n",
    "index = []\n",
    "for i, (pred,tgt) in enumerate(zip(preds_gen, validation_labels)):\n",
    "    #print(i)\n",
    "    if np.argmax(pred) != np.argmax(tgt):\n",
    "        mistakes += 1\n",
    "        index.append(i)\n",
    "print(mistakes)\n",
    "print(len(index))\n"
   ]
  },
  {
   "cell_type": "code",
   "execution_count": 67,
   "metadata": {
    "collapsed": false
   },
   "outputs": [
    {
     "name": "stdout",
     "output_type": "stream",
     "text": [
      "Bewicks_Wren\n",
      "\n",
      "Olive_Sparrow\n",
      "\n"
     ]
    }
   ],
   "source": [
    "print(get_label_name(np.argmax(preds_gen[1877])))\n",
    "print(get_label_name(np.argmax(validation_labels[1877])))"
   ]
  },
  {
   "cell_type": "code",
   "execution_count": 57,
   "metadata": {
    "collapsed": true
   },
   "outputs": [],
   "source": [
    "import re"
   ]
  },
  {
   "cell_type": "code",
   "execution_count": 66,
   "metadata": {
    "collapsed": false,
    "scrolled": false
   },
   "outputs": [
    {
     "name": "stdout",
     "output_type": "stream",
     "text": [
      "50\n",
      "100\n",
      "150\n",
      "200\n",
      "250\n",
      "300\n",
      "350\n",
      "400\n",
      "450\n",
      "500\n",
      "550\n",
      "600\n",
      "650\n",
      "700\n",
      "750\n",
      "800\n",
      "850\n",
      "900\n",
      "950\n",
      "1000\n",
      "1050\n",
      "1100\n",
      "1150\n",
      "1200\n",
      "1250\n",
      "1300\n",
      "1350\n",
      "1400\n",
      "1450\n",
      "1500\n",
      "1550\n",
      "1600\n",
      "1650\n",
      "1700\n",
      "1750\n",
      "1800\n",
      "1850\n",
      "Found:  1877\n",
      "1900\n",
      "1950\n",
      "2000\n",
      "2050\n",
      "2100\n",
      "2150\n"
     ]
    },
    {
     "ename": "KeyboardInterrupt",
     "evalue": "",
     "output_type": "error",
     "traceback": [
      "\u001b[0;31m---------------------------------------------------------------------------\u001b[0m",
      "\u001b[0;31mKeyboardInterrupt\u001b[0m                         Traceback (most recent call last)",
      "\u001b[0;32m<ipython-input-66-1004473e702b>\u001b[0m in \u001b[0;36m<module>\u001b[0;34m()\u001b[0m\n\u001b[1;32m      6\u001b[0m \u001b[0mcount\u001b[0m \u001b[0;34m=\u001b[0m \u001b[0;36m0\u001b[0m\u001b[0;34m\u001b[0m\u001b[0m\n\u001b[1;32m      7\u001b[0m \u001b[0mwrong_classified_path\u001b[0m \u001b[0;34m=\u001b[0m \u001b[0;34m[\u001b[0m\u001b[0;34m]\u001b[0m\u001b[0;34m\u001b[0m\u001b[0m\n\u001b[0;32m----> 8\u001b[0;31m \u001b[0;32mfor\u001b[0m \u001b[0mimgs\u001b[0m\u001b[0;34m,\u001b[0m \u001b[0mpaths\u001b[0m \u001b[0;32min\u001b[0m \u001b[0mgen\u001b[0m\u001b[0;34m:\u001b[0m\u001b[0;34m\u001b[0m\u001b[0m\n\u001b[0m\u001b[1;32m      9\u001b[0m     \u001b[0mimg\u001b[0m \u001b[0;34m=\u001b[0m \u001b[0mimgs\u001b[0m\u001b[0;34m[\u001b[0m\u001b[0;36m0\u001b[0m\u001b[0;34m]\u001b[0m\u001b[0;34m\u001b[0m\u001b[0m\n\u001b[1;32m     10\u001b[0m     \u001b[0mpath\u001b[0m \u001b[0;34m=\u001b[0m \u001b[0mpaths\u001b[0m\u001b[0;34m[\u001b[0m\u001b[0;36m0\u001b[0m\u001b[0;34m]\u001b[0m\u001b[0;34m\u001b[0m\u001b[0m\n",
      "\u001b[0;32m/home/ubuntu/birdsnap_dataset/deepbirdsnap/utils.py\u001b[0m in \u001b[0;36mimg_parts_generator\u001b[0;34m(parts_filename, data_dir, cache, batch_size, steps, target_dim, bottlenecks, unpickled, load_image, load_paths, bb_only, load_orig_img, load_parts)\u001b[0m\n\u001b[1;32m    178\u001b[0m                 \u001b[0mdata_orig_img\u001b[0m\u001b[0;34m.\u001b[0m\u001b[0mappend\u001b[0m\u001b[0;34m(\u001b[0m\u001b[0mget_img_array\u001b[0m\u001b[0;34m(\u001b[0m\u001b[0mimg\u001b[0m\u001b[0;34m,\u001b[0m \u001b[0mtarget_dim\u001b[0m\u001b[0;34m=\u001b[0m\u001b[0;32mNone\u001b[0m\u001b[0;34m)\u001b[0m\u001b[0;34m)\u001b[0m\u001b[0;34m\u001b[0m\u001b[0m\n\u001b[1;32m    179\u001b[0m             \u001b[0;32mif\u001b[0m\u001b[0;34m(\u001b[0m\u001b[0mload_image\u001b[0m\u001b[0;34m)\u001b[0m\u001b[0;34m:\u001b[0m\u001b[0;34m\u001b[0m\u001b[0m\n\u001b[0;32m--> 180\u001b[0;31m                 \u001b[0mdata_img\u001b[0m\u001b[0;34m.\u001b[0m\u001b[0mappend\u001b[0m\u001b[0;34m(\u001b[0m\u001b[0mget_img_array\u001b[0m\u001b[0;34m(\u001b[0m\u001b[0mimg\u001b[0m\u001b[0;34m,\u001b[0m \u001b[0mtarget_dim\u001b[0m\u001b[0;34m=\u001b[0m\u001b[0mtarget_dim\u001b[0m\u001b[0;34m)\u001b[0m\u001b[0;34m)\u001b[0m\u001b[0;34m\u001b[0m\u001b[0m\n\u001b[0m\u001b[1;32m    181\u001b[0m             \u001b[0;32mif\u001b[0m \u001b[0mload_paths\u001b[0m\u001b[0;34m:\u001b[0m\u001b[0;34m\u001b[0m\u001b[0m\n\u001b[1;32m    182\u001b[0m                 \u001b[0mdata_paths\u001b[0m\u001b[0;34m.\u001b[0m\u001b[0mappend\u001b[0m\u001b[0;34m(\u001b[0m\u001b[0mimg\u001b[0m\u001b[0;34m)\u001b[0m\u001b[0;34m\u001b[0m\u001b[0m\n",
      "\u001b[0;32m/home/ubuntu/birdsnap_dataset/deepbirdsnap/utils.py\u001b[0m in \u001b[0;36mget_img_array\u001b[0;34m(path, target_dim)\u001b[0m\n\u001b[1;32m     36\u001b[0m     \u001b[0mGiven\u001b[0m \u001b[0mpath\u001b[0m \u001b[0mof\u001b[0m \u001b[0mimage\u001b[0m\u001b[0;34m,\u001b[0m \u001b[0mreturns\u001b[0m \u001b[0mit\u001b[0m\u001b[0;31m'\u001b[0m\u001b[0ms\u001b[0m \u001b[0mnumpy\u001b[0m \u001b[0marray\u001b[0m\u001b[0;34m\u001b[0m\u001b[0m\n\u001b[1;32m     37\u001b[0m     \"\"\"\n\u001b[0;32m---> 38\u001b[0;31m     \u001b[0;32mreturn\u001b[0m \u001b[0mimg_to_array\u001b[0m\u001b[0;34m(\u001b[0m\u001b[0mload_img\u001b[0m\u001b[0;34m(\u001b[0m\u001b[0mpath\u001b[0m\u001b[0;34m,\u001b[0m \u001b[0mtarget_size\u001b[0m\u001b[0;34m=\u001b[0m\u001b[0mtarget_dim\u001b[0m\u001b[0;34m)\u001b[0m\u001b[0;34m)\u001b[0m\u001b[0;34m/\u001b[0m\u001b[0;36m255.0\u001b[0m\u001b[0;34m\u001b[0m\u001b[0m\n\u001b[0m\u001b[1;32m     39\u001b[0m \u001b[0;34m\u001b[0m\u001b[0m\n\u001b[1;32m     40\u001b[0m \u001b[0;32mdef\u001b[0m \u001b[0mload_bottlenecks\u001b[0m\u001b[0;34m(\u001b[0m\u001b[0mfilename\u001b[0m\u001b[0;34m)\u001b[0m\u001b[0;34m:\u001b[0m\u001b[0;34m\u001b[0m\u001b[0m\n",
      "\u001b[0;32m/home/ubuntu/birdsnap_dataset/deepbirdsnap/newbirds/lib/python3.5/site-packages/keras/preprocessing/image.py\u001b[0m in \u001b[0;36mload_img\u001b[0;34m(path, grayscale, target_size)\u001b[0m\n\u001b[1;32m    328\u001b[0m         \u001b[0mwh_tuple\u001b[0m \u001b[0;34m=\u001b[0m \u001b[0;34m(\u001b[0m\u001b[0mtarget_size\u001b[0m\u001b[0;34m[\u001b[0m\u001b[0;36m1\u001b[0m\u001b[0;34m]\u001b[0m\u001b[0;34m,\u001b[0m \u001b[0mtarget_size\u001b[0m\u001b[0;34m[\u001b[0m\u001b[0;36m0\u001b[0m\u001b[0;34m]\u001b[0m\u001b[0;34m)\u001b[0m\u001b[0;34m\u001b[0m\u001b[0m\n\u001b[1;32m    329\u001b[0m         \u001b[0;32mif\u001b[0m \u001b[0mimg\u001b[0m\u001b[0;34m.\u001b[0m\u001b[0msize\u001b[0m \u001b[0;34m!=\u001b[0m \u001b[0mwh_tuple\u001b[0m\u001b[0;34m:\u001b[0m\u001b[0;34m\u001b[0m\u001b[0m\n\u001b[0;32m--> 330\u001b[0;31m             \u001b[0mimg\u001b[0m \u001b[0;34m=\u001b[0m \u001b[0mimg\u001b[0m\u001b[0;34m.\u001b[0m\u001b[0mresize\u001b[0m\u001b[0;34m(\u001b[0m\u001b[0mwh_tuple\u001b[0m\u001b[0;34m)\u001b[0m\u001b[0;34m\u001b[0m\u001b[0m\n\u001b[0m\u001b[1;32m    331\u001b[0m     \u001b[0;32mreturn\u001b[0m \u001b[0mimg\u001b[0m\u001b[0;34m\u001b[0m\u001b[0m\n\u001b[1;32m    332\u001b[0m \u001b[0;34m\u001b[0m\u001b[0m\n",
      "\u001b[0;32m/home/ubuntu/birdsnap_dataset/deepbirdsnap/newbirds/lib/python3.5/site-packages/PIL/Image.py\u001b[0m in \u001b[0;36mresize\u001b[0;34m(self, size, resample)\u001b[0m\n\u001b[1;32m   1524\u001b[0m             \u001b[0;32mraise\u001b[0m \u001b[0mValueError\u001b[0m\u001b[0;34m(\u001b[0m\u001b[0;34m\"unknown resampling filter\"\u001b[0m\u001b[0;34m)\u001b[0m\u001b[0;34m\u001b[0m\u001b[0m\n\u001b[1;32m   1525\u001b[0m \u001b[0;34m\u001b[0m\u001b[0m\n\u001b[0;32m-> 1526\u001b[0;31m         \u001b[0mself\u001b[0m\u001b[0;34m.\u001b[0m\u001b[0mload\u001b[0m\u001b[0;34m(\u001b[0m\u001b[0;34m)\u001b[0m\u001b[0;34m\u001b[0m\u001b[0m\n\u001b[0m\u001b[1;32m   1527\u001b[0m \u001b[0;34m\u001b[0m\u001b[0m\n\u001b[1;32m   1528\u001b[0m         \u001b[0msize\u001b[0m \u001b[0;34m=\u001b[0m \u001b[0mtuple\u001b[0m\u001b[0;34m(\u001b[0m\u001b[0msize\u001b[0m\u001b[0;34m)\u001b[0m\u001b[0;34m\u001b[0m\u001b[0m\n",
      "\u001b[0;32m/home/ubuntu/birdsnap_dataset/deepbirdsnap/newbirds/lib/python3.5/site-packages/PIL/ImageFile.py\u001b[0m in \u001b[0;36mload\u001b[0;34m(self)\u001b[0m\n\u001b[1;32m    219\u001b[0m \u001b[0;34m\u001b[0m\u001b[0m\n\u001b[1;32m    220\u001b[0m                     \u001b[0mb\u001b[0m \u001b[0;34m=\u001b[0m \u001b[0mb\u001b[0m \u001b[0;34m+\u001b[0m \u001b[0ms\u001b[0m\u001b[0;34m\u001b[0m\u001b[0m\n\u001b[0;32m--> 221\u001b[0;31m                     \u001b[0mn\u001b[0m\u001b[0;34m,\u001b[0m \u001b[0me\u001b[0m \u001b[0;34m=\u001b[0m \u001b[0md\u001b[0m\u001b[0;34m.\u001b[0m\u001b[0mdecode\u001b[0m\u001b[0;34m(\u001b[0m\u001b[0mb\u001b[0m\u001b[0;34m)\u001b[0m\u001b[0;34m\u001b[0m\u001b[0m\n\u001b[0m\u001b[1;32m    222\u001b[0m                     \u001b[0;32mif\u001b[0m \u001b[0mn\u001b[0m \u001b[0;34m<\u001b[0m \u001b[0;36m0\u001b[0m\u001b[0;34m:\u001b[0m\u001b[0;34m\u001b[0m\u001b[0m\n\u001b[1;32m    223\u001b[0m                         \u001b[0;32mbreak\u001b[0m\u001b[0;34m\u001b[0m\u001b[0m\n",
      "\u001b[0;31mKeyboardInterrupt\u001b[0m: "
     ]
    }
   ],
   "source": [
    "index_set_twin = set(index)\n",
    "gen = img_parts_generator('parts_info.txt', \n",
    "                          data_dir='../validation/', \n",
    "                          batch_size=1, load_image=True, load_paths=True, load_parts=False, cache=False)\n",
    "\n",
    "count = 0\n",
    "wrong_classified_path = []\n",
    "for imgs, paths in gen:\n",
    "    img = imgs[0]\n",
    "    path = paths[0]\n",
    "    if count in index_set_twin:\n",
    "        if \"576390\" in path:\n",
    "            print(\"Found: \", count)\n",
    "        wrong_classified_path.append(path)\n",
    "    count += 1\n",
    "    if count%50 == 0:\n",
    "        print(count)\n",
    "len(wrong_classified_path)"
   ]
  },
  {
   "cell_type": "code",
   "execution_count": null,
   "metadata": {
    "collapsed": true
   },
   "outputs": [],
   "source": []
  },
  {
   "cell_type": "code",
   "execution_count": 19,
   "metadata": {
    "collapsed": true
   },
   "outputs": [],
   "source": [
    "from shutil import copyfile, copy2\n",
    "from image_cropper import get_save_path\n",
    "save_path = '../top_two_towers_82'"
   ]
  },
  {
   "cell_type": "code",
   "execution_count": 20,
   "metadata": {
    "collapsed": false
   },
   "outputs": [
    {
     "name": "stdout",
     "output_type": "stream",
     "text": [
      "../top_two_towers_82/validation/Acadian_Flycatcher\n",
      "../top_two_towers_82/validation/Acadian_Flycatcher\n",
      "../top_two_towers_82/validation/Acadian_Flycatcher\n",
      "../top_two_towers_82/validation/Acadian_Flycatcher\n",
      "../top_two_towers_82/validation/Acadian_Flycatcher\n",
      "../top_two_towers_82/validation/Alder_Flycatcher\n",
      "../top_two_towers_82/validation/Alder_Flycatcher\n",
      "../top_two_towers_82/validation/Alder_Flycatcher\n",
      "../top_two_towers_82/validation/Alder_Flycatcher\n",
      "../top_two_towers_82/validation/Allens_Hummingbird\n",
      "../top_two_towers_82/validation/Allens_Hummingbird\n",
      "../top_two_towers_82/validation/Allens_Hummingbird\n",
      "../top_two_towers_82/validation/Allens_Hummingbird\n",
      "../top_two_towers_82/validation/Altamira_Oriole\n",
      "../top_two_towers_82/validation/American_Black_Duck\n",
      "../top_two_towers_82/validation/American_Crow\n",
      "../top_two_towers_82/validation/American_Crow\n",
      "../top_two_towers_82/validation/American_Golden_Plover\n",
      "../top_two_towers_82/validation/American_Golden_Plover\n",
      "../top_two_towers_82/validation/American_Golden_Plover\n",
      "../top_two_towers_82/validation/American_Golden_Plover\n",
      "../top_two_towers_82/validation/American_Goldfinch\n",
      "../top_two_towers_82/validation/American_Pipit\n",
      "../top_two_towers_82/validation/American_Wigeon\n",
      "../top_two_towers_82/validation/American_Woodcock\n",
      "../top_two_towers_82/validation/Annas_Hummingbird\n",
      "../top_two_towers_82/validation/Annas_Hummingbird\n",
      "../top_two_towers_82/validation/Arctic_Tern\n",
      "../top_two_towers_82/validation/Arctic_Tern\n",
      "../top_two_towers_82/validation/Ash_throated_Flycatcher\n",
      "../top_two_towers_82/validation/Ash_throated_Flycatcher\n",
      "../top_two_towers_82/validation/Bairds_Sandpiper\n",
      "../top_two_towers_82/validation/Bairds_Sandpiper\n",
      "../top_two_towers_82/validation/Baltimore_Oriole\n",
      "../top_two_towers_82/validation/Baltimore_Oriole\n",
      "../top_two_towers_82/validation/Barn_Swallow\n",
      "../top_two_towers_82/validation/Barn_Swallow\n",
      "../top_two_towers_82/validation/Bay_breasted_Warbler\n",
      "../top_two_towers_82/validation/Bay_breasted_Warbler\n",
      "../top_two_towers_82/validation/Bells_Vireo\n",
      "../top_two_towers_82/validation/Bells_Vireo\n",
      "../top_two_towers_82/validation/Bewicks_Wren\n",
      "../top_two_towers_82/validation/Black_Guillemot\n",
      "../top_two_towers_82/validation/Black_Phoebe\n",
      "../top_two_towers_82/validation/Black_Scoter\n",
      "../top_two_towers_82/validation/Black_Vulture\n",
      "../top_two_towers_82/validation/Black_and_white_Warbler\n",
      "../top_two_towers_82/validation/Black_bellied_Plover\n",
      "../top_two_towers_82/validation/Black_bellied_Plover\n",
      "../top_two_towers_82/validation/Black_billed_Cuckoo\n",
      "../top_two_towers_82/validation/Black_billed_Cuckoo\n",
      "../top_two_towers_82/validation/Black_billed_Cuckoo\n",
      "../top_two_towers_82/validation/Black_chinned_Hummingbird\n",
      "../top_two_towers_82/validation/Black_chinned_Sparrow\n",
      "../top_two_towers_82/validation/Black_chinned_Sparrow\n",
      "../top_two_towers_82/validation/Black_legged_Kittiwake\n",
      "../top_two_towers_82/validation/Black_throated_Blue_Warbler\n",
      "../top_two_towers_82/validation/Black_throated_Blue_Warbler\n",
      "../top_two_towers_82/validation/Black_throated_Gray_Warbler\n",
      "../top_two_towers_82/validation/Black_throated_Gray_Warbler\n",
      "../top_two_towers_82/validation/Black_throated_Sparrow\n",
      "../top_two_towers_82/validation/Black_throated_Sparrow\n",
      "../top_two_towers_82/validation/Blackburnian_Warbler\n",
      "../top_two_towers_82/validation/Blackpoll_Warbler\n",
      "../top_two_towers_82/validation/Blackpoll_Warbler\n",
      "../top_two_towers_82/validation/Blue_Jay\n",
      "../top_two_towers_82/validation/Blue_headed_Vireo\n",
      "../top_two_towers_82/validation/Boat_tailed_Grackle\n",
      "../top_two_towers_82/validation/Bonapartes_Gull\n",
      "../top_two_towers_82/validation/Bonapartes_Gull\n",
      "../top_two_towers_82/validation/Bonapartes_Gull\n",
      "../top_two_towers_82/validation/Boreal_Chickadee\n",
      "../top_two_towers_82/validation/Brandts_Cormorant\n",
      "../top_two_towers_82/validation/Brandts_Cormorant\n",
      "../top_two_towers_82/validation/Brewers_Blackbird\n",
      "../top_two_towers_82/validation/Broad_tailed_Hummingbird\n",
      "../top_two_towers_82/validation/Broad_tailed_Hummingbird\n",
      "../top_two_towers_82/validation/Broad_winged_Hawk\n",
      "../top_two_towers_82/validation/Bronzed_Cowbird\n",
      "../top_two_towers_82/validation/Bronzed_Cowbird\n",
      "../top_two_towers_82/validation/Bronzed_Cowbird\n",
      "../top_two_towers_82/validation/Bronzed_Cowbird\n",
      "../top_two_towers_82/validation/Brown_crested_Flycatcher\n",
      "../top_two_towers_82/validation/Brown_crested_Flycatcher\n",
      "../top_two_towers_82/validation/Brown_crested_Flycatcher\n",
      "../top_two_towers_82/validation/Brown_crested_Flycatcher\n",
      "../top_two_towers_82/validation/Brown_headed_Cowbird\n",
      "../top_two_towers_82/validation/Burrowing_Owl\n",
      "../top_two_towers_82/validation/Burrowing_Owl\n",
      "../top_two_towers_82/validation/Cackling_Goose\n",
      "../top_two_towers_82/validation/California_Gull\n",
      "../top_two_towers_82/validation/California_Gull\n",
      "../top_two_towers_82/validation/California_Gull\n",
      "../top_two_towers_82/validation/California_Gull\n",
      "../top_two_towers_82/validation/California_Towhee\n",
      "../top_two_towers_82/validation/California_Towhee\n",
      "../top_two_towers_82/validation/California_Towhee\n",
      "../top_two_towers_82/validation/California_Towhee\n",
      "../top_two_towers_82/validation/Calliope_Hummingbird\n",
      "../top_two_towers_82/validation/Calliope_Hummingbird\n",
      "../top_two_towers_82/validation/Calliope_Hummingbird\n",
      "../top_two_towers_82/validation/Canada_Goose\n",
      "../top_two_towers_82/validation/Canada_Goose\n",
      "../top_two_towers_82/validation/Carolina_Chickadee\n",
      "../top_two_towers_82/validation/Carolina_Chickadee\n",
      "../top_two_towers_82/validation/Carolina_Wren\n",
      "../top_two_towers_82/validation/Caspian_Tern\n",
      "../top_two_towers_82/validation/Cassins_Finch\n",
      "../top_two_towers_82/validation/Cassins_Finch\n",
      "../top_two_towers_82/validation/Cassins_Finch\n",
      "../top_two_towers_82/validation/Cassins_Finch\n",
      "../top_two_towers_82/validation/Cassins_Kingbird\n",
      "../top_two_towers_82/validation/Cassins_Kingbird\n",
      "../top_two_towers_82/validation/Cassins_Sparrow\n",
      "../top_two_towers_82/validation/Cassins_Sparrow\n",
      "../top_two_towers_82/validation/Cassins_Vireo\n",
      "../top_two_towers_82/validation/Cassins_Vireo\n",
      "../top_two_towers_82/validation/Cave_Swallow\n",
      "../top_two_towers_82/validation/Chestnut_collared_Longspur\n",
      "../top_two_towers_82/validation/Chihuahuan_Raven\n",
      "../top_two_towers_82/validation/Chihuahuan_Raven\n",
      "../top_two_towers_82/validation/Chimney_Swift\n",
      "../top_two_towers_82/validation/Chimney_Swift\n",
      "../top_two_towers_82/validation/Chipping_Sparrow\n",
      "../top_two_towers_82/validation/Chipping_Sparrow\n",
      "../top_two_towers_82/validation/Clapper_Rail\n",
      "../top_two_towers_82/validation/Clarks_Grebe\n",
      "../top_two_towers_82/validation/Clarks_Grebe\n",
      "../top_two_towers_82/validation/Clarks_Nutcracker\n",
      "../top_two_towers_82/validation/Clay_colored_Sparrow\n",
      "../top_two_towers_82/validation/Clay_colored_Sparrow\n",
      "../top_two_towers_82/validation/Common_Black_Hawk\n",
      "../top_two_towers_82/validation/Common_Goldeneye\n",
      "../top_two_towers_82/validation/Common_Grackle\n",
      "../top_two_towers_82/validation/Common_Grackle\n",
      "../top_two_towers_82/validation/Common_Merganser\n",
      "../top_two_towers_82/validation/Common_Raven\n",
      "../top_two_towers_82/validation/Common_Raven\n",
      "../top_two_towers_82/validation/Common_Raven\n",
      "../top_two_towers_82/validation/Common_Redpoll\n",
      "../top_two_towers_82/validation/Common_Tern\n",
      "../top_two_towers_82/validation/Common_Tern\n",
      "../top_two_towers_82/validation/Common_Tern\n",
      "../top_two_towers_82/validation/Common_Tern\n",
      "../top_two_towers_82/validation/Common_Tern\n",
      "../top_two_towers_82/validation/Common_Tern\n",
      "../top_two_towers_82/validation/Common_Yellowthroat\n",
      "../top_two_towers_82/validation/Coopers_Hawk\n",
      "../top_two_towers_82/validation/Coopers_Hawk\n",
      "../top_two_towers_82/validation/Coopers_Hawk\n",
      "../top_two_towers_82/validation/Coopers_Hawk\n",
      "../top_two_towers_82/validation/Cordilleran_Flycatcher\n",
      "../top_two_towers_82/validation/Cordilleran_Flycatcher\n",
      "../top_two_towers_82/validation/Costas_Hummingbird\n",
      "../top_two_towers_82/validation/Costas_Hummingbird\n",
      "../top_two_towers_82/validation/Costas_Hummingbird\n",
      "../top_two_towers_82/validation/Couchs_Kingbird\n",
      "../top_two_towers_82/validation/Double_crested_Cormorant\n",
      "../top_two_towers_82/validation/Double_crested_Cormorant\n",
      "../top_two_towers_82/validation/Downy_Woodpecker\n",
      "../top_two_towers_82/validation/Downy_Woodpecker\n",
      "../top_two_towers_82/validation/Dunlin\n",
      "../top_two_towers_82/validation/Dunlin\n",
      "../top_two_towers_82/validation/Dusky_Flycatcher\n",
      "../top_two_towers_82/validation/Dusky_Flycatcher\n",
      "../top_two_towers_82/validation/Dusky_Flycatcher\n",
      "../top_two_towers_82/validation/Dusky_Flycatcher\n",
      "../top_two_towers_82/validation/Dusky_Grouse\n",
      "../top_two_towers_82/validation/Eared_Grebe\n",
      "../top_two_towers_82/validation/Eastern_Bluebird\n",
      "../top_two_towers_82/validation/Eastern_Bluebird\n",
      "../top_two_towers_82/validation/Eastern_Kingbird\n",
      "../top_two_towers_82/validation/Eastern_Meadowlark\n",
      "../top_two_towers_82/validation/Eastern_Meadowlark\n",
      "../top_two_towers_82/validation/Eastern_Meadowlark\n",
      "../top_two_towers_82/validation/Eastern_Phoebe\n",
      "../top_two_towers_82/validation/Eastern_Phoebe\n",
      "../top_two_towers_82/validation/Eastern_Phoebe\n",
      "../top_two_towers_82/validation/Eastern_Phoebe\n",
      "../top_two_towers_82/validation/Eastern_Phoebe\n",
      "../top_two_towers_82/validation/Eastern_Screech_Owl\n",
      "../top_two_towers_82/validation/Eastern_Towhee\n",
      "../top_two_towers_82/validation/Eastern_Wood_Pewee\n",
      "../top_two_towers_82/validation/Eastern_Wood_Pewee\n",
      "../top_two_towers_82/validation/Eastern_Wood_Pewee\n",
      "../top_two_towers_82/validation/Eastern_Wood_Pewee\n",
      "../top_two_towers_82/validation/Eastern_Wood_Pewee\n",
      "../top_two_towers_82/validation/Elf_Owl\n",
      "../top_two_towers_82/validation/Elf_Owl\n",
      "../top_two_towers_82/validation/Eurasian_Collared_Dove\n",
      "../top_two_towers_82/validation/Eurasian_Wigeon\n",
      "../top_two_towers_82/validation/Eurasian_Wigeon\n",
      "../top_two_towers_82/validation/Ferruginous_Hawk\n",
      "../top_two_towers_82/validation/Field_Sparrow\n",
      "../top_two_towers_82/validation/Fish_Crow\n",
      "../top_two_towers_82/validation/Fish_Crow\n",
      "../top_two_towers_82/validation/Fish_Crow\n",
      "../top_two_towers_82/validation/Fish_Crow\n",
      "../top_two_towers_82/validation/Florida_Scrub_Jay\n",
      "../top_two_towers_82/validation/Florida_Scrub_Jay\n",
      "../top_two_towers_82/validation/Florida_Scrub_Jay\n",
      "../top_two_towers_82/validation/Florida_Scrub_Jay\n",
      "../top_two_towers_82/validation/Forsters_Tern\n",
      "../top_two_towers_82/validation/Forsters_Tern\n",
      "../top_two_towers_82/validation/Fulvous_Whistling_Duck\n",
      "../top_two_towers_82/validation/Fulvous_Whistling_Duck\n",
      "../top_two_towers_82/validation/Gambels_Quail\n",
      "../top_two_towers_82/validation/Gambels_Quail\n",
      "../top_two_towers_82/validation/Gambels_Quail\n",
      "../top_two_towers_82/validation/Gambels_Quail\n",
      "../top_two_towers_82/validation/Gila_Woodpecker\n",
      "../top_two_towers_82/validation/Glaucous_Gull\n",
      "../top_two_towers_82/validation/Glaucous_Gull\n",
      "../top_two_towers_82/validation/Glaucous_Gull\n",
      "../top_two_towers_82/validation/Glaucous_winged_Gull\n",
      "../top_two_towers_82/validation/Glaucous_winged_Gull\n",
      "../top_two_towers_82/validation/Glaucous_winged_Gull\n",
      "../top_two_towers_82/validation/Glaucous_winged_Gull\n",
      "../top_two_towers_82/validation/Glaucous_winged_Gull\n",
      "../top_two_towers_82/validation/Glossy_Ibis\n",
      "../top_two_towers_82/validation/Golden_fronted_Woodpecker\n",
      "../top_two_towers_82/validation/Golden_fronted_Woodpecker\n",
      "../top_two_towers_82/validation/Gray_Catbird\n",
      "../top_two_towers_82/validation/Gray_Catbird\n",
      "../top_two_towers_82/validation/Gray_Flycatcher\n",
      "../top_two_towers_82/validation/Gray_Flycatcher\n",
      "../top_two_towers_82/validation/Gray_Flycatcher\n",
      "../top_two_towers_82/validation/Gray_Flycatcher\n",
      "../top_two_towers_82/validation/Gray_Kingbird\n",
      "../top_two_towers_82/validation/Gray_cheeked_Thrush\n",
      "../top_two_towers_82/validation/Gray_crowned_Rosy_Finch\n",
      "../top_two_towers_82/validation/Gray_crowned_Rosy_Finch\n",
      "../top_two_towers_82/validation/Great_Cormorant\n",
      "../top_two_towers_82/validation/Great_Crested_Flycatcher\n",
      "../top_two_towers_82/validation/Great_Crested_Flycatcher\n",
      "../top_two_towers_82/validation/Great_Egret\n",
      "../top_two_towers_82/validation/Great_tailed_Grackle\n",
      "../top_two_towers_82/validation/Great_tailed_Grackle\n",
      "../top_two_towers_82/validation/Great_tailed_Grackle\n",
      "../top_two_towers_82/validation/Great_tailed_Grackle\n",
      "../top_two_towers_82/validation/Greater_Scaup\n",
      "../top_two_towers_82/validation/Greater_Scaup\n",
      "../top_two_towers_82/validation/Greater_Scaup\n",
      "../top_two_towers_82/validation/Greater_Scaup\n",
      "../top_two_towers_82/validation/Greater_Yellowlegs\n",
      "../top_two_towers_82/validation/Greater_Yellowlegs\n",
      "../top_two_towers_82/validation/Greater_Yellowlegs\n",
      "../top_two_towers_82/validation/Greater_Yellowlegs\n",
      "../top_two_towers_82/validation/Gull_billed_Tern\n",
      "../top_two_towers_82/validation/Gull_billed_Tern\n",
      "../top_two_towers_82/validation/Hairy_Woodpecker\n",
      "../top_two_towers_82/validation/Hairy_Woodpecker\n",
      "../top_two_towers_82/validation/Hammonds_Flycatcher\n",
      "../top_two_towers_82/validation/Hammonds_Flycatcher\n",
      "../top_two_towers_82/validation/Hammonds_Flycatcher\n",
      "../top_two_towers_82/validation/Harlequin_Duck\n",
      "../top_two_towers_82/validation/Harriss_Hawk\n",
      "../top_two_towers_82/validation/Heermanns_Gull\n",
      "../top_two_towers_82/validation/Heermanns_Gull\n",
      "../top_two_towers_82/validation/Hepatic_Tanager\n",
      "../top_two_towers_82/validation/Hermit_Thrush\n",
      "../top_two_towers_82/validation/Hermit_Thrush\n",
      "../top_two_towers_82/validation/Herring_Gull\n",
      "../top_two_towers_82/validation/Herring_Gull\n",
      "../top_two_towers_82/validation/Herring_Gull\n",
      "../top_two_towers_82/validation/Hoary_Redpoll\n",
      "../top_two_towers_82/validation/Hoary_Redpoll\n",
      "../top_two_towers_82/validation/Hooded_Merganser\n",
      "../top_two_towers_82/validation/Hooded_Merganser\n",
      "../top_two_towers_82/validation/Hooded_Oriole\n",
      "../top_two_towers_82/validation/Hooded_Oriole\n",
      "../top_two_towers_82/validation/House_Sparrow\n",
      "../top_two_towers_82/validation/House_Wren\n",
      "../top_two_towers_82/validation/House_Wren\n",
      "../top_two_towers_82/validation/House_Wren\n",
      "../top_two_towers_82/validation/Iceland_Gull\n",
      "../top_two_towers_82/validation/Iceland_Gull\n",
      "../top_two_towers_82/validation/Iceland_Gull\n",
      "../top_two_towers_82/validation/Iceland_Gull\n",
      "../top_two_towers_82/validation/Inca_Dove\n",
      "../top_two_towers_82/validation/Killdeer\n",
      "../top_two_towers_82/validation/Ladder_backed_Woodpecker\n",
      "../top_two_towers_82/validation/Lapland_Longspur\n",
      "../top_two_towers_82/validation/Laughing_Gull\n",
      "../top_two_towers_82/validation/Lazuli_Bunting\n",
      "../top_two_towers_82/validation/Least_Flycatcher\n",
      "../top_two_towers_82/validation/Least_Flycatcher\n",
      "../top_two_towers_82/validation/Least_Flycatcher\n",
      "../top_two_towers_82/validation/Least_Flycatcher\n",
      "../top_two_towers_82/validation/Least_Tern\n",
      "../top_two_towers_82/validation/Least_Tern\n",
      "../top_two_towers_82/validation/Least_Tern\n",
      "../top_two_towers_82/validation/Lesser_Goldfinch\n",
      "../top_two_towers_82/validation/Lesser_Nighthawk\n",
      "../top_two_towers_82/validation/Lesser_Nighthawk\n",
      "../top_two_towers_82/validation/Lesser_Scaup\n",
      "../top_two_towers_82/validation/Lesser_Yellowlegs\n",
      "../top_two_towers_82/validation/Lesser_Yellowlegs\n",
      "../top_two_towers_82/validation/Limpkin\n",
      "../top_two_towers_82/validation/Lincolns_Sparrow\n",
      "../top_two_towers_82/validation/Lincolns_Sparrow\n",
      "../top_two_towers_82/validation/Little_Blue_Heron\n",
      "../top_two_towers_82/validation/Little_Blue_Heron\n",
      "../top_two_towers_82/validation/Long_billed_Dowitcher\n",
      "../top_two_towers_82/validation/Long_billed_Dowitcher\n",
      "../top_two_towers_82/validation/Long_billed_Dowitcher\n",
      "../top_two_towers_82/validation/Long_billed_Thrasher\n",
      "../top_two_towers_82/validation/Long_eared_Owl\n",
      "../top_two_towers_82/validation/Long_eared_Owl\n",
      "../top_two_towers_82/validation/Louisiana_Waterthrush\n",
      "../top_two_towers_82/validation/Mew_Gull\n",
      "../top_two_towers_82/validation/Mew_Gull\n",
      "../top_two_towers_82/validation/Mew_Gull\n",
      "../top_two_towers_82/validation/Mexican_Jay\n",
      "../top_two_towers_82/validation/Mexican_Jay\n",
      "../top_two_towers_82/validation/Mississippi_Kite\n",
      "../top_two_towers_82/validation/Mountain_Chickadee\n",
      "../top_two_towers_82/validation/Mountain_Plover\n",
      "../top_two_towers_82/validation/Mountain_Plover\n",
      "../top_two_towers_82/validation/Mourning_Warbler\n",
      "../top_two_towers_82/validation/Mute_Swan\n",
      "../top_two_towers_82/validation/Mute_Swan\n",
      "../top_two_towers_82/validation/Nashville_Warbler\n",
      "../top_two_towers_82/validation/Nelsons_Sparrow\n",
      "../top_two_towers_82/validation/Nelsons_Sparrow\n",
      "../top_two_towers_82/validation/Nelsons_Sparrow\n",
      "../top_two_towers_82/validation/Neotropic_Cormorant\n",
      "../top_two_towers_82/validation/Neotropic_Cormorant\n",
      "../top_two_towers_82/validation/Northern_Cardinal\n",
      "../top_two_towers_82/validation/Northern_Gannet\n",
      "../top_two_towers_82/validation/Northern_Gannet\n",
      "../top_two_towers_82/validation/Northern_Goshawk\n",
      "../top_two_towers_82/validation/Northern_Goshawk\n",
      "../top_two_towers_82/validation/Northern_Harrier\n",
      "../top_two_towers_82/validation/Northern_Harrier\n",
      "../top_two_towers_82/validation/Northern_Mockingbird\n",
      "../top_two_towers_82/validation/Northern_Rough_winged_Swallow\n",
      "../top_two_towers_82/validation/Northern_Rough_winged_Swallow\n",
      "../top_two_towers_82/validation/Northern_Rough_winged_Swallow\n",
      "../top_two_towers_82/validation/Northern_Rough_winged_Swallow\n",
      "../top_two_towers_82/validation/Northern_Waterthrush\n",
      "../top_two_towers_82/validation/Northern_Waterthrush\n",
      "../top_two_towers_82/validation/Olive_Sparrow\n",
      "../top_two_towers_82/validation/Olive_sided_Flycatcher\n",
      "../top_two_towers_82/validation/Orange_crowned_Warbler\n",
      "../top_two_towers_82/validation/Orchard_Oriole\n",
      "../top_two_towers_82/validation/Osprey\n",
      "../top_two_towers_82/validation/Ovenbird\n",
      "../top_two_towers_82/validation/Pacific_Golden_Plover\n",
      "../top_two_towers_82/validation/Pacific_Golden_Plover\n",
      "../top_two_towers_82/validation/Pacific_Loon\n",
      "../top_two_towers_82/validation/Pacific_Loon\n",
      "../top_two_towers_82/validation/Pacific_Loon\n",
      "../top_two_towers_82/validation/Pacific_slope_Flycatcher\n",
      "../top_two_towers_82/validation/Pacific_slope_Flycatcher\n",
      "../top_two_towers_82/validation/Pacific_slope_Flycatcher\n",
      "../top_two_towers_82/validation/Palm_Warbler\n",
      "../top_two_towers_82/validation/Phainopepla\n",
      "../top_two_towers_82/validation/Philadelphia_Vireo\n",
      "../top_two_towers_82/validation/Philadelphia_Vireo\n",
      "../top_two_towers_82/validation/Pigeon_Guillemot\n",
      "../top_two_towers_82/validation/Pine_Grosbeak\n",
      "../top_two_towers_82/validation/Pine_Warbler\n",
      "../top_two_towers_82/validation/Plumbeous_Vireo\n",
      "../top_two_towers_82/validation/Plumbeous_Vireo\n",
      "../top_two_towers_82/validation/Prairie_Warbler\n",
      "../top_two_towers_82/validation/Purple_Finch\n",
      "../top_two_towers_82/validation/Purple_Sandpiper\n",
      "../top_two_towers_82/validation/Purple_Sandpiper\n",
      "../top_two_towers_82/validation/Red_Crossbill\n",
      "../top_two_towers_82/validation/Red_Crossbill\n",
      "../top_two_towers_82/validation/Red_Crossbill\n",
      "../top_two_towers_82/validation/Red_Knot\n",
      "../top_two_towers_82/validation/Red_Phalarope\n",
      "../top_two_towers_82/validation/Red_Phalarope\n",
      "../top_two_towers_82/validation/Red_breasted_Nuthatch\n",
      "../top_two_towers_82/validation/Red_breasted_Nuthatch\n",
      "../top_two_towers_82/validation/Red_breasted_Sapsucker\n",
      "../top_two_towers_82/validation/Red_cockaded_Woodpecker\n",
      "../top_two_towers_82/validation/Red_cockaded_Woodpecker\n",
      "../top_two_towers_82/validation/Red_cockaded_Woodpecker\n",
      "../top_two_towers_82/validation/Red_cockaded_Woodpecker\n",
      "../top_two_towers_82/validation/Red_shouldered_Hawk\n",
      "../top_two_towers_82/validation/Red_tailed_Hawk\n",
      "../top_two_towers_82/validation/Red_tailed_Hawk\n",
      "../top_two_towers_82/validation/Red_winged_Blackbird\n",
      "../top_two_towers_82/validation/Ring_billed_Gull\n",
      "../top_two_towers_82/validation/Ring_billed_Gull\n",
      "../top_two_towers_82/validation/Ring_billed_Gull\n",
      "../top_two_towers_82/validation/Ring_billed_Gull\n",
      "../top_two_towers_82/validation/Ring_billed_Gull\n",
      "../top_two_towers_82/validation/Rock_Ptarmigan\n",
      "../top_two_towers_82/validation/Rock_Ptarmigan\n",
      "../top_two_towers_82/validation/Rock_Ptarmigan\n",
      "../top_two_towers_82/validation/Rock_Sandpiper\n",
      "../top_two_towers_82/validation/Rock_Wren\n",
      "../top_two_towers_82/validation/Roseate_Tern\n",
      "../top_two_towers_82/validation/Roseate_Tern\n",
      "../top_two_towers_82/validation/Roseate_Tern\n",
      "../top_two_towers_82/validation/Rosss_Goose\n",
      "../top_two_towers_82/validation/Rough_legged_Hawk\n",
      "../top_two_towers_82/validation/Royal_Tern\n",
      "../top_two_towers_82/validation/Royal_Tern\n",
      "../top_two_towers_82/validation/Ruby_throated_Hummingbird\n",
      "../top_two_towers_82/validation/Ruby_throated_Hummingbird\n",
      "../top_two_towers_82/validation/Ruby_throated_Hummingbird\n",
      "../top_two_towers_82/validation/Ruddy_Turnstone\n",
      "../top_two_towers_82/validation/Rufous_Hummingbird\n",
      "../top_two_towers_82/validation/Rufous_Hummingbird\n",
      "../top_two_towers_82/validation/Rufous_crowned_Sparrow\n",
      "../top_two_towers_82/validation/Rufous_crowned_Sparrow\n",
      "../top_two_towers_82/validation/Rusty_Blackbird\n",
      "../top_two_towers_82/validation/Rusty_Blackbird\n",
      "../top_two_towers_82/validation/Saltmarsh_Sparrow\n",
      "../top_two_towers_82/validation/Saltmarsh_Sparrow\n",
      "../top_two_towers_82/validation/Sanderling\n",
      "../top_two_towers_82/validation/Sanderling\n",
      "../top_two_towers_82/validation/Sandwich_Tern\n",
      "../top_two_towers_82/validation/Sandwich_Tern\n",
      "../top_two_towers_82/validation/Sandwich_Tern\n",
      "../top_two_towers_82/validation/Sandwich_Tern\n",
      "../top_two_towers_82/validation/Says_Phoebe\n",
      "../top_two_towers_82/validation/Says_Phoebe\n",
      "../top_two_towers_82/validation/Scarlet_Tanager\n",
      "../top_two_towers_82/validation/Scotts_Oriole\n",
      "../top_two_towers_82/validation/Sedge_Wren\n",
      "../top_two_towers_82/validation/Sedge_Wren\n",
      "../top_two_towers_82/validation/Semipalmated_Plover\n",
      "../top_two_towers_82/validation/Semipalmated_Plover\n",
      "../top_two_towers_82/validation/Semipalmated_Sandpiper\n",
      "../top_two_towers_82/validation/Semipalmated_Sandpiper\n",
      "../top_two_towers_82/validation/Sharp_shinned_Hawk\n",
      "../top_two_towers_82/validation/Sharp_shinned_Hawk\n",
      "../top_two_towers_82/validation/Short_billed_Dowitcher\n",
      "../top_two_towers_82/validation/Short_eared_Owl\n",
      "../top_two_towers_82/validation/Snail_Kite\n",
      "../top_two_towers_82/validation/Snail_Kite\n",
      "../top_two_towers_82/validation/Snow_Goose\n",
      "../top_two_towers_82/validation/Snow_Goose\n",
      "../top_two_towers_82/validation/Snow_Goose\n",
      "../top_two_towers_82/validation/Snow_Goose\n",
      "../top_two_towers_82/validation/Snow_Goose\n",
      "../top_two_towers_82/validation/Snow_Goose\n",
      "../top_two_towers_82/validation/Snowy_Plover\n",
      "../top_two_towers_82/validation/Snowy_Plover\n",
      "../top_two_towers_82/validation/Song_Sparrow\n",
      "../top_two_towers_82/validation/Sooty_Grouse\n",
      "../top_two_towers_82/validation/Sooty_Grouse\n",
      "../top_two_towers_82/validation/Sooty_Grouse\n",
      "../top_two_towers_82/validation/Sooty_Grouse\n",
      "../top_two_towers_82/validation/Sooty_Grouse\n",
      "../top_two_towers_82/validation/Sooty_Grouse\n",
      "../top_two_towers_82/validation/Spotted_Sandpiper\n",
      "../top_two_towers_82/validation/Spotted_Towhee\n",
      "../top_two_towers_82/validation/Spruce_Grouse\n",
      "../top_two_towers_82/validation/Spruce_Grouse\n",
      "../top_two_towers_82/validation/Spruce_Grouse\n",
      "../top_two_towers_82/validation/Stellers_Jay\n",
      "../top_two_towers_82/validation/Stellers_Jay\n",
      "../top_two_towers_82/validation/Stilt_Sandpiper\n",
      "../top_two_towers_82/validation/Summer_Tanager\n",
      "../top_two_towers_82/validation/Summer_Tanager\n",
      "../top_two_towers_82/validation/Swainsons_Hawk\n",
      "../top_two_towers_82/validation/Swainsons_Hawk\n",
      "../top_two_towers_82/validation/Swainsons_Hawk\n",
      "../top_two_towers_82/validation/Swainsons_Thrush\n",
      "../top_two_towers_82/validation/Swallow_tailed_Kite\n",
      "../top_two_towers_82/validation/Swamp_Sparrow\n",
      "../top_two_towers_82/validation/Tennessee_Warbler\n",
      "../top_two_towers_82/validation/Tennessee_Warbler\n",
      "../top_two_towers_82/validation/Thayers_Gull\n",
      "../top_two_towers_82/validation/Thayers_Gull\n",
      "../top_two_towers_82/validation/Thayers_Gull\n",
      "../top_two_towers_82/validation/Townsends_Solitaire\n",
      "../top_two_towers_82/validation/Townsends_Warbler\n",
      "../top_two_towers_82/validation/Townsends_Warbler\n",
      "../top_two_towers_82/validation/Tricolored_Heron\n",
      "../top_two_towers_82/validation/Tropical_Kingbird\n",
      "../top_two_towers_82/validation/Tropical_Kingbird\n",
      "../top_two_towers_82/validation/Tropical_Kingbird\n",
      "../top_two_towers_82/validation/Tropical_Kingbird\n",
      "../top_two_towers_82/validation/Trumpeter_Swan\n",
      "../top_two_towers_82/validation/Trumpeter_Swan\n",
      "../top_two_towers_82/validation/Trumpeter_Swan\n",
      "../top_two_towers_82/validation/Tufted_Titmouse\n",
      "../top_two_towers_82/validation/Tufted_Titmouse\n",
      "../top_two_towers_82/validation/Tundra_Swan\n",
      "../top_two_towers_82/validation/Varied_Thrush\n",
      "../top_two_towers_82/validation/Vesper_Sparrow\n",
      "../top_two_towers_82/validation/Vesper_Sparrow\n",
      "../top_two_towers_82/validation/Vesper_Sparrow\n",
      "../top_two_towers_82/validation/Vesper_Sparrow\n",
      "../top_two_towers_82/validation/Violet_green_Swallow\n",
      "../top_two_towers_82/validation/Virginia_Rail\n",
      "../top_two_towers_82/validation/Wandering_Tattler\n",
      "../top_two_towers_82/validation/Warbling_Vireo\n",
      "../top_two_towers_82/validation/Western_Bluebird\n",
      "../top_two_towers_82/validation/Western_Bluebird\n",
      "../top_two_towers_82/validation/Western_Bluebird\n",
      "../top_two_towers_82/validation/Western_Grebe\n",
      "../top_two_towers_82/validation/Western_Grebe\n",
      "../top_two_towers_82/validation/Western_Grebe\n",
      "../top_two_towers_82/validation/Western_Gull\n",
      "../top_two_towers_82/validation/Western_Gull\n",
      "../top_two_towers_82/validation/Western_Gull\n",
      "../top_two_towers_82/validation/Western_Gull\n",
      "../top_two_towers_82/validation/Western_Gull\n",
      "../top_two_towers_82/validation/Western_Gull\n",
      "../top_two_towers_82/validation/Western_Kingbird\n",
      "../top_two_towers_82/validation/Western_Kingbird\n",
      "../top_two_towers_82/validation/Western_Kingbird\n",
      "../top_two_towers_82/validation/Western_Kingbird\n",
      "../top_two_towers_82/validation/Western_Sandpiper\n",
      "../top_two_towers_82/validation/Western_Tanager\n",
      "../top_two_towers_82/validation/Western_Tanager\n",
      "../top_two_towers_82/validation/White_rumped_Sandpiper\n",
      "../top_two_towers_82/validation/White_tailed_Hawk\n",
      "../top_two_towers_82/validation/White_tailed_Kite\n",
      "../top_two_towers_82/validation/White_tailed_Kite\n",
      "../top_two_towers_82/validation/White_tailed_Ptarmigan\n",
      "../top_two_towers_82/validation/White_throated_Sparrow\n",
      "../top_two_towers_82/validation/White_throated_Sparrow\n",
      "../top_two_towers_82/validation/White_throated_Swift\n",
      "../top_two_towers_82/validation/White_throated_Swift\n",
      "../top_two_towers_82/validation/White_winged_Crossbill\n",
      "../top_two_towers_82/validation/Williamsons_Sapsucker\n",
      "../top_two_towers_82/validation/Williamsons_Sapsucker\n",
      "../top_two_towers_82/validation/Willow_Flycatcher\n",
      "../top_two_towers_82/validation/Willow_Flycatcher\n",
      "../top_two_towers_82/validation/Willow_Flycatcher\n",
      "../top_two_towers_82/validation/Willow_Flycatcher\n",
      "../top_two_towers_82/validation/Willow_Flycatcher\n",
      "../top_two_towers_82/validation/Willow_Ptarmigan\n",
      "../top_two_towers_82/validation/Willow_Ptarmigan\n",
      "../top_two_towers_82/validation/Willow_Ptarmigan\n",
      "../top_two_towers_82/validation/Wilsons_Plover\n",
      "../top_two_towers_82/validation/Wilsons_Snipe\n",
      "../top_two_towers_82/validation/Winter_Wren\n",
      "../top_two_towers_82/validation/Winter_Wren\n",
      "../top_two_towers_82/validation/Winter_Wren\n",
      "../top_two_towers_82/validation/Wood_Stork\n",
      "../top_two_towers_82/validation/Wood_Thrush\n",
      "../top_two_towers_82/validation/Yellow_bellied_Flycatcher\n",
      "../top_two_towers_82/validation/Yellow_bellied_Flycatcher\n",
      "../top_two_towers_82/validation/Yellow_bellied_Flycatcher\n",
      "../top_two_towers_82/validation/Yellow_bellied_Sapsucker\n",
      "../top_two_towers_82/validation/Yellow_crowned_Night_Heron\n",
      "../top_two_towers_82/validation/Yellow_headed_Blackbird\n"
     ]
    }
   ],
   "source": [
    "for path in wrong_classified_path:\n",
    "    new_path = get_save_path(path, save_path)\n",
    "    copyfile(path, new_path)\n",
    "\n",
    "    "
   ]
  },
  {
   "cell_type": "code",
   "execution_count": null,
   "metadata": {
    "collapsed": true
   },
   "outputs": [],
   "source": []
  }
 ],
 "metadata": {
  "anaconda-cloud": {},
  "kernelspec": {
   "display_name": "newbirds3",
   "language": "python",
   "name": "newbirds3"
  },
  "language_info": {
   "codemirror_mode": {
    "name": "ipython",
    "version": 3
   },
   "file_extension": ".py",
   "mimetype": "text/x-python",
   "name": "python",
   "nbconvert_exporter": "python",
   "pygments_lexer": "ipython3",
   "version": "3.5.2"
  }
 },
 "nbformat": 4,
 "nbformat_minor": 1
}
